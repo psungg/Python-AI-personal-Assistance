{
 "cells": [
  {
   "cell_type": "markdown",
   "id": "5cbfc70f",
   "metadata": {},
   "source": [
    "# Ai Personal Assistance"
   ]
  },
  {
   "cell_type": "markdown",
   "id": "48bbf894",
   "metadata": {},
   "source": [
    "**SpeechRecognition** provides as many popular APIs, including Google Web Speech API\n",
    "\n",
    "The SpeechRecognition Library allows us to use microphone (real-time) and audio file"
   ]
  },
  {
   "cell_type": "markdown",
   "id": "cff94b58",
   "metadata": {},
   "source": [
    "**To install the SpeechRecognition Library**\n",
    "\n",
    "    pip install SpeechRecognition\n",
    "    \n",
    "**To import**\n",
    "\n",
    "    import speech_recognition as sr\n",
    "    \n",
    "**To use microphone as source for speech recognition**\n",
    "\n",
    "    pip install PyAudio"
   ]
  },
  {
   "cell_type": "markdown",
   "id": "e688efec",
   "metadata": {},
   "source": [
    "**To perform speech recognition: sr.Recoginizer()**\n",
    "\n",
    "    recognizerObject = sr.Recognizer()"
   ]
  },
  {
   "cell_type": "markdown",
   "id": "2912ee30",
   "metadata": {},
   "source": [
    "**To create a Microphone object as a input source for speech recognition: sr.Microphone()**\n",
    "\n",
    "    with sr.Microphone() as source:"
   ]
  },
  {
   "cell_type": "markdown",
   "id": "95301f41",
   "metadata": {},
   "source": [
    "**To capture the Microphone input: recognizerObject.listen(MicrophoneObject)**\n",
    "\n",
    "    voice = recognizerObject.listen(source)\n",
    "    \n",
    "timeout: the maximum number of seconds that this will wait for a phrase to start before giving up and throwing an speech_recognition.WaitTimeoutError\n",
    "\n",
    "    voice = recognizerObject.listen(source, timeout = 5)"
   ]
  },
  {
   "cell_type": "markdown",
   "id": "007eaffb",
   "metadata": {},
   "source": [
    "**API to use**\n",
    "\n",
    "**Google Web Speech API**\n",
    "\n",
    "    recognizerObject.recognize_google(MicrophoneObject)\n",
    "    \n",
    "**IBM Speech to Text API**\n",
    "\n",
    "    recognizerObject.recognize_ibm(MicrophoneObject)\n",
    "    \n",
    "**Microsoft Bing Speech API**\n",
    "\n",
    "    recognizerObject.recognize_bing(MicrophoneObject)\n",
    "    \n",
    "**Google Cloud Speech API** (google cloud speech package is required)\n",
    "\n",
    "    recognizerObject.recognize_google_cloud(MicrophoneObject)\n",
    "    \n",
    "**CMU Sphinx API** (PocketSphinx is required)\n",
    "\n",
    "    recognizerObject.recognize_sphinx(MicrophoneObject)\n",
    "    \n",
    "    statement = recoginzer.Object.recognize_google(voice)"
   ]
  },
  {
   "cell_type": "markdown",
   "id": "2f3eeed4",
   "metadata": {},
   "source": [
    "**Webbrowser Module**\n",
    "\n",
    "**To use the webbrowser module**\n",
    "\n",
    "    import webbrowser\n",
    "    \n",
    "**To open URL in a new window of the default web browser**\n",
    "\n",
    "    webbrowser.open_new(\"URL\")\n",
    "    \n",
    "**To open URL in a new tab of the default web browser**\n",
    "\n",
    "    webbrowser.open_new_tab(\"URL\")"
   ]
  },
  {
   "cell_type": "markdown",
   "id": "039a7679",
   "metadata": {},
   "source": [
    "**datetime Module**\n",
    "\n",
    "**To use the datetime module**\n",
    "\n",
    "    import datetime\n",
    "    \n",
    "**To get a combination of a current date and time**\n",
    "\n",
    "    Attributes: year, month, day, hour, minute, second, microsecond\n",
    "    \n",
    "    datetime.datetime.now() #for current date and time  \n",
    "    datetime.datetime.now().year #for current year  \n",
    "    datetime.datetime.now().month #for current month  \n",
    "    datetime.datetime.now().day #for current date  \n",
    "    datetime.datetime.now().hour #for current hour  \n",
    "    \n",
    "    eg. hour = datetime.datetime.now().hour\n",
    "    \n",
    "**strtime() method** is used for converting the datetime to string that represents date and time according to the format  \n",
    "\n",
    "    datetime.datetime.now().strtime(\"format\")  \n",
    "    \n",
    "    eg. strTime = datetime.datetime.now().strtime(\"%H: %M: %S\")  \n",
    "    \n",
    "    **Example of strtime Format**  \n",
    "    %A     Full Weekday Name    Sunday,Monday,...  \n",
    "    %B     Full Month Name      January,Febuary,...  \n",
    "    %Y     Year                 2022,2023,...  \n",
    "    %H     Hour (24 hrs)        00,01,...,23  \n",
    "    %M     Minute               00,01,...,59  \n",
    "    %S     Second               00,01,...,59  \n",
    "    "
   ]
  },
  {
   "cell_type": "markdown",
   "id": "024c515c",
   "metadata": {},
   "source": [
    "**time module**\n",
    "\n",
    "**To use time module**\n",
    "\n",
    "    import time\n",
    "    \n",
    "**sleep() method** is used to suspend the processing thread (add some delay) for a given number of seconds\n",
    "\n",
    "    time.sleep(second)\n",
    "    \n",
    "    eg. time.sleep(3) #pause the processing thread for 3 seconds"
   ]
  },
  {
   "cell_type": "markdown",
   "id": "fcfa9894",
   "metadata": {},
   "source": [
    "# AI Personal Assistant (Speech Recognition)"
   ]
  },
  {
   "cell_type": "markdown",
   "id": "ffa0cc27",
   "metadata": {},
   "source": [
    "1. Create Recognizer object for speech recognition\n",
    "2. Create text to speech object for the AI Personal Assistant to reply the user\n",
    "3. Make the AI Personal Assistant greet the user\n",
    "4. Make the AI Personal Assistant ready to take command  \n",
    "    a. Create Microphone object to get the input voice  \n",
    "    b. Wait and listen for the input for 5 seconds  \n",
    "    c. Recognize the input speech  \n",
    "    d. Compare the recognized speech to the known commands  \n",
    "    e. Perform according to the command  \n",
    "    f. If cannot catch the command, ask the user to repeat it again  \n",
    "5. Prepare the known commands and response the user via speech, eg:  \n",
    "    a. Open youtube in web browser  \n",
    "    b. Open google in web browser  \n",
    "    c. Tell for the current time  \n",
    "    d. Answer the question \"How are you?\"  \n",
    "    e. Stop the AI Personal Assistant  \n",
    "6. Wait for at least 3 seconds before continue to the new command and keep looping until the user asks the AI Personal Assistant to stop"
   ]
  },
  {
   "cell_type": "code",
   "execution_count": null,
   "id": "d2b03ebf",
   "metadata": {},
   "outputs": [],
   "source": [
    "pip install SpeechRecognition"
   ]
  },
  {
   "cell_type": "code",
   "execution_count": null,
   "id": "fb3f952f",
   "metadata": {},
   "outputs": [],
   "source": [
    "pip install PyAudio"
   ]
  },
  {
   "cell_type": "code",
   "execution_count": 7,
   "id": "466e4436",
   "metadata": {},
   "outputs": [
    {
     "name": "stdout",
     "output_type": "stream",
     "text": [
      "Loading AI Personal Assistant - Javis\n",
      "Hello, Good morning\n",
      "I'm ready to service. How can I help you?\n",
      "Listening...\n",
      "Got it\n",
      "User said:what time is it\n",
      "The time is15:47:19\n",
      "I'm ready to service. How can I help you?\n",
      "Listening...\n",
      "Got it\n",
      "User said:goodbye\n",
      "Your AI Personal Assistance Javis is shutting down, goodbye\n"
     ]
    }
   ],
   "source": [
    "import speech_recognition as sr\n",
    "import pyttsx3\n",
    "import webbrowser\n",
    "import datetime\n",
    "import time\n",
    "\n",
    "def greeting():\n",
    "    hour = datetime.datetime.now().hour\n",
    "    if hour >= 0 and hour < 12:\n",
    "        speak(\"Hello, Good morning\")\n",
    "        print(\"Hello, Good morning\")\n",
    "    elif hour >= 12 and hour < 15:\n",
    "        speak(\"Hello, Good afternoon\")\n",
    "        print(\"Hello, Good afternoon\")\n",
    "    else:\n",
    "        speak(\"Hello, Good evening\")\n",
    "        print(\"Hello, Good morning\")\n",
    "        \n",
    "def speak(text):\n",
    "    engine.say(text)\n",
    "    engine.runAndWait()\n",
    "    \n",
    "def takeCommand():\n",
    "    with sr.Microphone() as source:\n",
    "        recognizerObject.adjust_for_ambient_noise(source)\n",
    "        print(\"Listening...\")\n",
    "        voice = recognizerObject.listen(source, timeout = 5)\n",
    "        try:\n",
    "            statement = recognizerObject.recognize_google(voice)\n",
    "            print(\"Got it\")\n",
    "            print(\"User said:\"+statement)\n",
    "        except Exception as e:\n",
    "            print(\"Pardon me, please say it again\")\n",
    "            speak(\"Pardon me, please say it again\")\n",
    "            return \"None\"\n",
    "        return statement\n",
    "\n",
    "recognizerObject = sr.Recognizer()\n",
    "engine = pyttsx3.init()\n",
    "\n",
    "print(\"Loading AI Personal Assistant - Javis\")\n",
    "speak(\"Loading your AI Personal Assistant - Javis\")\n",
    "\n",
    "greeting()\n",
    "\n",
    "while True:\n",
    "    print(\"I'm ready to service. How can I help you?\")\n",
    "    speak(\"I'm ready to service. How can I help you?\")\n",
    "    \n",
    "    statement = takeCommand().lower()\n",
    "    \n",
    "    if statement == \"None\":\n",
    "        continue\n",
    "    if \"Goodbye\" in statement or \"stop\" in statement or \"bye\" in statement:\n",
    "        speak(\"Your AI Personal Assistance Javis is shutting down, goodbye\")\n",
    "        print(\"Your AI Personal Assistance Javis is shutting down, goodbye\")\n",
    "        break\n",
    "        \n",
    "    if \"youtube\" in statement:\n",
    "        webbrowser.open_new_tab(\"https://www.youtube.com\")\n",
    "        speak(\"Opening Youtube\")\n",
    "        print(\"Opening Youtube\")\n",
    "        \n",
    "    if \"google\" in statement:\n",
    "        webbrowser.open_new_tab(\"https://www.google.com\")\n",
    "        speak(\"Opening Google\")\n",
    "        print(\"Opening Google\")\n",
    "        \n",
    "    if \"time\" in statement:\n",
    "        strTime = datetime.datetime.now().strftime(\"%H:%M:%S\")\n",
    "        speak(\"The time is\"+strTime)\n",
    "        print(\"The time is \"+strTime)\n",
    "        \n",
    "    elif \"how are you\" in statement:\n",
    "        speak(\"I'm doing great. I wish I can serve you best as your AI Personal Assistant\")\n",
    "    time.sleep(3)\n",
    "        \n",
    "    \n",
    "    "
   ]
  },
  {
   "cell_type": "code",
   "execution_count": null,
   "id": "d70eb84c",
   "metadata": {},
   "outputs": [],
   "source": []
  },
  {
   "cell_type": "code",
   "execution_count": null,
   "id": "4933064a",
   "metadata": {},
   "outputs": [],
   "source": []
  }
 ],
 "metadata": {
  "kernelspec": {
   "display_name": "Python 3 (ipykernel)",
   "language": "python",
   "name": "python3"
  },
  "language_info": {
   "codemirror_mode": {
    "name": "ipython",
    "version": 3
   },
   "file_extension": ".py",
   "mimetype": "text/x-python",
   "name": "python",
   "nbconvert_exporter": "python",
   "pygments_lexer": "ipython3",
   "version": "3.11.3"
  }
 },
 "nbformat": 4,
 "nbformat_minor": 5
}
